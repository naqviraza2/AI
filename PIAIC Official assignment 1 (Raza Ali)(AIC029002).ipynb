{
 "cells": [
  {
   "cell_type": "markdown",
   "metadata": {},
   "source": [
    "## 1. Calculate Area of a Circle"
   ]
  },
  {
   "cell_type": "markdown",
   "metadata": {},
   "source": [
    "#### Write a Python program which accepts the radius of a circle from the user and compute the area.\n",
    "###### Program Console Sample Output 1:\n",
    "###### Input Radius: 0.5\n",
    "###### Area of Circle with radius 0.5 is 0.7853981634"
   ]
  },
  {
   "cell_type": "code",
   "execution_count": 1,
   "metadata": {},
   "outputs": [
    {
     "name": "stdout",
     "output_type": "stream",
     "text": [
      "input Radius: 0.5\n",
      "Area of Circle with radius: 0.785375\n"
     ]
    }
   ],
   "source": [
    "r = float(input(\"input Radius: \"))\n",
    "pi = 3.1415\n",
    "area = pi*r**2\n",
    "print(\"Area of Circle with radius:\", area)"
   ]
  },
  {
   "cell_type": "code",
   "execution_count": null,
   "metadata": {},
   "outputs": [],
   "source": []
  },
  {
   "cell_type": "markdown",
   "metadata": {},
   "source": [
    "## 2. Check Number either positive, negative or zero"
   ]
  },
  {
   "cell_type": "markdown",
   "metadata": {},
   "source": [
    "#### Write a Python program to check if a number is positive, negative or zero\n",
    "###### Program Console Sample Output 1:\n",
    "###### Enter Number: -1\n",
    "##### Negative Number Entered\n",
    "###### Program Console Sample Output 2:\n",
    "##### Integer: 3\n",
    "##### Positive Number Entered\n",
    "###### Program Console Sample Output 3:\n",
    "##### Integer: 0\n",
    "###### Zero Entered"
   ]
  },
  {
   "cell_type": "code",
   "execution_count": 2,
   "metadata": {},
   "outputs": [
    {
     "name": "stdout",
     "output_type": "stream",
     "text": [
      "enter number :-1\n",
      "negative number entered\n"
     ]
    }
   ],
   "source": [
    "num = int(input(\"enter number :\"))\n",
    "if num>0:\n",
    "    print(\"positive muber entered\")\n",
    "elif num<0:\n",
    "    print(\"negative number entered\")\n",
    "else:\n",
    "    print(\"zero entered\")"
   ]
  },
  {
   "cell_type": "code",
   "execution_count": 3,
   "metadata": {},
   "outputs": [
    {
     "name": "stdout",
     "output_type": "stream",
     "text": [
      "enter number :3\n",
      "positive muber entered\n"
     ]
    }
   ],
   "source": [
    "num = int(input(\"enter number :\"))\n",
    "if num>0:\n",
    "    print(\"positive muber entered\")\n",
    "elif num<0:\n",
    "    print(\"negative number entered\")\n",
    "else:\n",
    "    print(\"zero entered\")"
   ]
  },
  {
   "cell_type": "code",
   "execution_count": 4,
   "metadata": {},
   "outputs": [
    {
     "name": "stdout",
     "output_type": "stream",
     "text": [
      "enter number :0\n",
      "zero entered\n"
     ]
    }
   ],
   "source": [
    "num = int(input(\"enter number :\"))\n",
    "if num>0:\n",
    "    print(\"positive muber entered\")\n",
    "elif num<0:\n",
    "    print(\"negative number entered\")\n",
    "else:\n",
    "    print(\"zero entered\")"
   ]
  },
  {
   "cell_type": "markdown",
   "metadata": {},
   "source": [
    "## 3. Divisibility Check of two numbers"
   ]
  },
  {
   "cell_type": "markdown",
   "metadata": {},
   "source": [
    "#### Write a Python program to check whether a number is completely divisible by another number. Accept two integer values form the user\n",
    "##### Program Console Sample Output 1:\n",
    "###### Enter numerator: 4\n",
    "###### Enter Denominator: 2\n",
    "##### Number 4 is Completely divisible by 2\n",
    "###### Program Console Sample Output 2:\n",
    "##### Enter numerator: 7\n",
    "\n",
    "##### Enter Denominator: 4\n",
    "###### Number 7 is not Completely divisible by 4"
   ]
  },
  {
   "cell_type": "code",
   "execution_count": 6,
   "metadata": {},
   "outputs": [
    {
     "name": "stdout",
     "output_type": "stream",
     "text": [
      "enter numerator 4\n",
      "enter denominator 2\n",
      "4 number is completely divisible by  2\n"
     ]
    }
   ],
   "source": [
    "n = int(input(\"enter numerator \"))\n",
    "d = enter(input(\"enter denominator \"))\n",
    "if n%d==0:\n",
    "    print(n, \"number is completely divisible by \",d)\n",
    "else:\n",
    "    print(n, \"number is not completely divisible by \",d)"
   ]
  },
  {
   "cell_type": "code",
   "execution_count": 1,
   "metadata": {},
   "outputs": [
    {
     "name": "stdout",
     "output_type": "stream",
     "text": [
      "enter numerator 7\n",
      "enter denominator 4\n",
      "7 number is not completely divisible by  4\n"
     ]
    }
   ],
   "source": [
    "n = int(input(\"enter numerator \"))\n",
    "d = int(input(\"enter denominator \"))\n",
    "if n%d==0:\n",
    "    print(n, \"number is completely divisible by \",d)\n",
    "else:\n",
    "    print(n, \"number is not completely divisible by \",d)"
   ]
  },
  {
   "cell_type": "markdown",
   "metadata": {},
   "source": [
    "## 4. Calculate Volume of a sphere"
   ]
  },
  {
   "cell_type": "markdown",
   "metadata": {},
   "source": [
    "##### Write a Python program to get the volume of a sphere, please take the radius as input from user"
   ]
  },
  {
   "cell_type": "code",
   "execution_count": 2,
   "metadata": {},
   "outputs": [
    {
     "name": "stdout",
     "output_type": "stream",
     "text": [
      "enter radius of sphere25\n",
      "the volume of sphere is 65447.916666666664\n"
     ]
    }
   ],
   "source": [
    "r = float(input(\"enter radius of sphere\"))\n",
    "pi =3.1415\n",
    "volume_of_sphere =4/3*pi*r**3\n",
    "print(\"the volume of sphere is\" ,volume_of_sphere)"
   ]
  },
  {
   "cell_type": "markdown",
   "metadata": {},
   "source": [
    "## 5. Copy string n times\n",
    "#### Write a Python program to get a string which is n (non-negative integer) copies of a given string.\n",
    "##### Program Console Output:\n",
    "##### Enter String: Hi\n",
    "###### How many copies of String you need: 4\n",
    "###### 4 Copies of Hi are HiHiHiHi"
   ]
  },
  {
   "cell_type": "code",
   "execution_count": 3,
   "metadata": {},
   "outputs": [
    {
     "name": "stdout",
     "output_type": "stream",
     "text": [
      "Enter string:anas\n",
      "how many copies of string do you need?3\n",
      "3 copies of anas are anasanasanas\n"
     ]
    }
   ],
   "source": [
    "string =input(\"Enter string:\")\n",
    "num =int(input(\"how many copies of string do you need?\"))\n",
    "print(f\"{num} copies of {string} are {string*num}\")"
   ]
  },
  {
   "cell_type": "markdown",
   "metadata": {},
   "source": [
    "## 6. Check if number is Even or Odd\n",
    "### Write a Python program to find whether a given number (accept from the user) is even or odd, print out an appropriate message to the user\n",
    "#### Program Console Output 1:\n",
    "##### Enter Number: 4\n",
    "###### 4 is Even\n",
    "#### Program Console Output 2:\n",
    "##### Enter Number: 9\n",
    "###### 9 is Odd"
   ]
  },
  {
   "cell_type": "code",
   "execution_count": 6,
   "metadata": {},
   "outputs": [
    {
     "name": "stdout",
     "output_type": "stream",
     "text": [
      "enter number:4\n",
      "4 is even\n"
     ]
    }
   ],
   "source": [
    "num =int(input(\"enter number:\"))\n",
    "if num%2==0:\n",
    "    print(f\"{num} is even\")\n",
    "else:\n",
    "    print(f\"{num} is odd\")"
   ]
  },
  {
   "cell_type": "code",
   "execution_count": 7,
   "metadata": {},
   "outputs": [
    {
     "name": "stdout",
     "output_type": "stream",
     "text": [
      "enter number9\n",
      "9 is odd\n"
     ]
    }
   ],
   "source": [
    "num =int(input(\"enter number\"))\n",
    "if num%2==0:\n",
    "    print(f\"{num} is even\")\n",
    "else:\n",
    "    print(f\"{num} is odd\")"
   ]
  },
  {
   "cell_type": "markdown",
   "metadata": {},
   "source": [
    "## 7. Vowel Tester\n",
    "### Write a Python program to test whether a passed letter is a vowel or not\n",
    "#### Program Console Output 1:\n",
    "##### Enter a character: A\n",
    "###### Letter A is Vowel\n",
    "#### Program Console Output 2:\n",
    "##### Enter a character: e\n",
    "###### Letter e is Vowel\n",
    "#### Program Console Output 2:\n",
    "##### Enter a character: N\n",
    "###### Letter N is not Vowel"
   ]
  },
  {
   "cell_type": "code",
   "execution_count": 12,
   "metadata": {},
   "outputs": [
    {
     "name": "stdout",
     "output_type": "stream",
     "text": [
      "Enter an Alphabates: e\n",
      "Letter e is vowel\n"
     ]
    }
   ],
   "source": [
    "alph=input(\"Enter an Alphabates: \")\n",
    "if (alph== 'a'):\n",
    "    print( 'Letter a is vowel')\n",
    "elif(alph== 'A'):\n",
    "    print(\"Letter A is vowel\")\n",
    "elif(alph== 'e'):\n",
    "    print(\"Letter e is vowel\")\n",
    "elif(alph== 'E'):\n",
    "    print(\"Letter E is vowel\")\n",
    "elif(alph== 'i'):\n",
    "    print(\"Letter i is vowel\")\n",
    "elif(alph== 'I'):\n",
    "    print(\"Letter I is vowel\")\n",
    "elif(alph== 'o'):\n",
    "    print(\"Letter o is vowel\")\n",
    "elif(alph== 'O'):\n",
    "    print(\"Letter O is vowel\")\n",
    "elif(alph== 'u'):\n",
    "    print(\"Letter u is vowel\")\n",
    "elif(alph== 'U'):\n",
    "    print(\"Letter U is vowel\")\n",
    "else:\n",
    "    print(\"Its is not Vowel\")"
   ]
  },
  {
   "cell_type": "code",
   "execution_count": 11,
   "metadata": {},
   "outputs": [
    {
     "name": "stdout",
     "output_type": "stream",
     "text": [
      "Enter an Alphabates: A\n",
      "Letter A is vowel\n"
     ]
    }
   ],
   "source": [
    "alph=input(\"Enter an Alphabates: \")\n",
    "if (alph== 'a'):\n",
    "    print( 'Letter a is vowel')\n",
    "elif(alph== 'A'):\n",
    "    print(\"Letter A is vowel\")\n",
    "elif(alph== 'e'):\n",
    "    print(\"Letter e is vowel\")\n",
    "elif(alph== 'E'):\n",
    "    print(\"Letter E is vowel\")\n",
    "elif(alph== 'i'):\n",
    "    print(\"Letter i is vowel\")\n",
    "elif(alph== 'I'):\n",
    "    print(\"Letter I is vowel\")\n",
    "elif(alph== 'o'):\n",
    "    print(\"Letter o is vowel\")\n",
    "elif(alph== 'O'):\n",
    "    print(\"Letter O is vowel\")\n",
    "elif(alph== 'u'):\n",
    "    print(\"Letter u is vowel\")\n",
    "elif(alph== 'U'):\n",
    "    print(\"Letter U is vowel\")\n",
    "else:\n",
    "    print(\"Its is not Vowel\")"
   ]
  },
  {
   "cell_type": "code",
   "execution_count": 13,
   "metadata": {},
   "outputs": [
    {
     "name": "stdout",
     "output_type": "stream",
     "text": [
      "Enter an Alphabates: N\n",
      "Its is not Vowel\n"
     ]
    }
   ],
   "source": [
    "alph=input(\"Enter an Alphabates: \")\n",
    "if (alph== 'a'):\n",
    "    print( 'Letter a is vowel')\n",
    "elif(alph== 'A'):\n",
    "    print(\"Letter A is vowel\")\n",
    "elif(alph== 'e'):\n",
    "    print(\"Letter e is vowel\")\n",
    "elif(alph== 'E'):\n",
    "    print(\"Letter E is vowel\")\n",
    "elif(alph== 'i'):\n",
    "    print(\"Letter i is vowel\")\n",
    "elif(alph== 'I'):\n",
    "    print(\"Letter I is vowel\")\n",
    "elif(alph== 'o'):\n",
    "    print(\"Letter o is vowel\")\n",
    "elif(alph== 'O'):\n",
    "    print(\"Letter O is vowel\")\n",
    "elif(alph== 'u'):\n",
    "    print(\"Letter u is vowel\")\n",
    "elif(alph== 'U'):\n",
    "    print(\"Letter U is vowel\")\n",
    "else:\n",
    "    print(\"Its is not Vowel\")"
   ]
  },
  {
   "cell_type": "markdown",
   "metadata": {},
   "source": [
    "## 8. Triangle area\n",
    "### Write a Python program that will accept the base and height of a triangle and compute the area\n",
    "###### Reference:\n",
    "https://www.mathgoodies.com/lessons/vol1/area_triangle"
   ]
  },
  {
   "cell_type": "code",
   "execution_count": 16,
   "metadata": {},
   "outputs": [
    {
     "name": "stdout",
     "output_type": "stream",
     "text": [
      "enter base:5\n",
      "enter height6\n",
      "area of triangle is 15.0\n"
     ]
    }
   ],
   "source": [
    "base = int(input(\"enter base:\"))\n",
    "height = int(input(\"enter height\"))\n",
    "area=1/2*base*height\n",
    "print(f\"area of triangle is {area}\")"
   ]
  },
  {
   "cell_type": "markdown",
   "metadata": {},
   "source": [
    "## 9. Calculate Interest\n",
    "### Write a Python program to compute the future value of a specified principal amount, rate of interest, and a number of years\n",
    "#### Program Console Sample 1:\n",
    "##### Please enter principal amount: 10000\n",
    "###### Please Enter Rate of interest in %: 0.1\n",
    "###### Enter number of years for investment: 5\n",
    "###### After 5 years your principal amount 10000 over an interest rate of 0.1 % will be 16105.1"
   ]
  },
  {
   "cell_type": "code",
   "execution_count": 25,
   "metadata": {},
   "outputs": [
    {
     "name": "stdout",
     "output_type": "stream",
     "text": [
      "Please enter Principal amount: 10000\n",
      "Please Enter Rate of Interest in %: 0.1\n",
      "Enter Number of Years for Investment: 5\n",
      "After 5 Years your Principal Amount 10000 over an Interest of 0.1 will be 16105.1\n"
     ]
    }
   ],
   "source": [
    "pamount = int(input(\"Please enter Principal amount: \"))\n",
    "roi = float(input(\"Please Enter Rate of Interest in %: \"))\n",
    "years = int(input(\"Enter Number of Years for Investment: \"))\n",
    "rate = 0.1 * 100\n",
    "interest_rate = pamount * ((1+ (10/100)) ** years)\n",
    "interest_rate = round(interest_rate, 2)\n",
    "\n",
    "print(f\"After {years} Years your Principal Amount {pamount} over an Interest of {roi} will be {interest_rate}\")"
   ]
  },
  {
   "cell_type": "markdown",
   "metadata": {},
   "source": [
    "## 10. Euclidean distance\n",
    "### write a Python program to compute the distance between the points (x1, y1) and (x2, y2).\n",
    "#### Program Console Sample 1:\n",
    "###### Enter Co-ordinate for x1: 2\n",
    "###### Enter Co-ordinate for x2: 4\n",
    "###### Enter Co-ordinate for y1: 4\n",
    "###### Enter Co-ordinate for y2: 4\n",
    "###### Distance between points (2, 4) and (4, 4) is 2"
   ]
  },
  {
   "cell_type": "markdown",
   "metadata": {},
   "source": [
    "###### Reference:\n",
    "https://en.wikipedia.org/wiki/Euclidean_distance"
   ]
  },
  {
   "cell_type": "code",
   "execution_count": 26,
   "metadata": {},
   "outputs": [
    {
     "name": "stdout",
     "output_type": "stream",
     "text": [
      "Enter Co-ordinate for x1 : 2\n",
      "Enter Co-ordinate for x2 : 4\n",
      "Enter Co-ordinate for y1 : 4\n",
      "Enter Co-ordinate for y2 : 4\n",
      "Distance between Points(2,4) and (4,4) is 2\n"
     ]
    }
   ],
   "source": [
    "x1=int(input(\"Enter Co-ordinate for x1 : \"))\n",
    "x2=int(input(\"Enter Co-ordinate for x2 : \"))\n",
    "y1=int(input(\"Enter Co-ordinate for y1 : \"))\n",
    "y2=int(input(\"Enter Co-ordinate for y2 : \"))\n",
    "DBP=((x1-y1)**2+(x2-y2)**2)**1/2\n",
    "print(f\"Distance between Points({x1},{x2}) and ({y1},{y2}) is {DBP:.0f}\")"
   ]
  },
  {
   "cell_type": "markdown",
   "metadata": {},
   "source": [
    "## 11. Feet to Centimeter Converter\n",
    "### Write a Python program to convert height in feet to centimetres.\n",
    "##### Program Console Sample 1:\n",
    "###### Enter Height in Feet: 5\n",
    "###### There are 152.4 Cm in 5 ft\n",
    "###### Reference:\n",
    "https://www.rapidtables.com/convert/length/feet-to-cm.html"
   ]
  },
  {
   "cell_type": "code",
   "execution_count": 27,
   "metadata": {},
   "outputs": [
    {
     "name": "stdout",
     "output_type": "stream",
     "text": [
      "enter height in feet5\n",
      "There are 152.4 Cm in 5 ft\n"
     ]
    }
   ],
   "source": [
    "feet =int(input(\"enter height in feet\"))\n",
    "cm =30.48*feet\n",
    "print(f\"There are {cm} Cm in {feet} ft\")"
   ]
  },
  {
   "cell_type": "markdown",
   "metadata": {},
   "source": [
    "## 12. BMI Calculator\n",
    "### Write a Python program to calculate body mass index\n",
    "##### Program Console Sample 1:\n",
    "###### Enter Height in Cm: 180\n",
    "###### Enter Weight in Kg: 75\n",
    "###### Your BMI is 23.15"
   ]
  },
  {
   "cell_type": "code",
   "execution_count": 28,
   "metadata": {},
   "outputs": [
    {
     "name": "stdout",
     "output_type": "stream",
     "text": [
      "enter height in cm :180\n",
      "enter weight in kh:75\n",
      "your BMI is 23.148148148148145\n"
     ]
    }
   ],
   "source": [
    "h =float(input(\"enter height in cm :\"))\n",
    "w =float(input(\"enter weight in kh:\"))\n",
    "BMI=w/(h/100)**2\n",
    "print(f\"your BMI is {BMI}\")"
   ]
  },
  {
   "cell_type": "markdown",
   "metadata": {},
   "source": [
    "## 13. Sum of n Positive Integers\n",
    "### Write a python program to sum of the first n positive integers\n",
    "#### Program Console Sample 1:\n",
    "###### Enter value of n: 5\n",
    "###### Sum of n Positive integers till 5 is 15"
   ]
  },
  {
   "cell_type": "code",
   "execution_count": 29,
   "metadata": {},
   "outputs": [
    {
     "name": "stdout",
     "output_type": "stream",
     "text": [
      "Enter Value of n : 5\n",
      "sum of n positive integers till 5 is 15\n"
     ]
    }
   ],
   "source": [
    "n=int(input(\"Enter Value of n : \"))\n",
    "sum=0\n",
    "for i in range(n+1):\n",
    "    sum+=i\n",
    "print(f\"sum of n positive integers till {n} is {sum}\")"
   ]
  },
  {
   "cell_type": "markdown",
   "metadata": {},
   "source": [
    "## 14. Digits Sum of a Number\n",
    "### Write a Python program to calculate the sum of the digits in an integer\n",
    "#### Program Console Sample 1:\n",
    "##### Enter a number: 15\n",
    "###### Sum of 1 + 5 is 6\n",
    "#### Program Console Sample 2:\n",
    "##### Enter a number: 1234\n",
    "###### Sum of 1 + 2 + 3 + 4 is 10"
   ]
  },
  {
   "cell_type": "code",
   "execution_count": 30,
   "metadata": {},
   "outputs": [
    {
     "name": "stdout",
     "output_type": "stream",
     "text": [
      "Enter A Number : 15\n",
      "Sum of 1+5 is 6\n"
     ]
    }
   ],
   "source": [
    "num=input(\"Enter A Number : \")\n",
    "sums=0\n",
    "print(\"Sum of \",end=\"\")\n",
    "for x in num:\n",
    "    sums+=int(x)\n",
    "    print(f\"{x}+\",end=\"\")\n",
    "print(\"\\b is\",sums)"
   ]
  }
 ],
 "metadata": {
  "kernelspec": {
   "display_name": "Python 3",
   "language": "python",
   "name": "python3"
  },
  "language_info": {
   "codemirror_mode": {
    "name": "ipython",
    "version": 3
   },
   "file_extension": ".py",
   "mimetype": "text/x-python",
   "name": "python",
   "nbconvert_exporter": "python",
   "pygments_lexer": "ipython3",
   "version": "3.7.3"
  }
 },
 "nbformat": 4,
 "nbformat_minor": 2
}
