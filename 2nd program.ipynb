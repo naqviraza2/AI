{
 "cells": [
  {
   "cell_type": "code",
   "execution_count": null,
   "metadata": {},
   "outputs": [],
   "source": [
    "num= 3\n",
    "print(type(num))"
   ]
  },
  {
   "cell_type": "code",
   "execution_count": null,
   "metadata": {},
   "outputs": [],
   "source": [
    "save= int(input(\"enter your raza rollno\"))\n",
    "have= int(input(\"enter your anas rollno\"))\n",
    "print(save)\n",
    "print(have)\n",
    "print(save+have)"
   ]
  },
  {
   "cell_type": "code",
   "execution_count": null,
   "metadata": {},
   "outputs": [],
   "source": [
    "one= \"hello\"\n",
    "two= \"raza\"\n",
    "print(one+two)"
   ]
  },
  {
   "cell_type": "code",
   "execution_count": null,
   "metadata": {},
   "outputs": [],
   "source": [
    "print(\"my name is \\t my name is \")"
   ]
  },
  {
   "cell_type": "code",
   "execution_count": null,
   "metadata": {},
   "outputs": [],
   "source": [
    "print(\"\\\\//\\\\\\//\\\\\")"
   ]
  },
  {
   "cell_type": "code",
   "execution_count": null,
   "metadata": {},
   "outputs": [],
   "source": [
    "save=input(\"eneter the name\")\n",
    "num=int(input(\"eneter your roll num\"))\n",
    "hola=input(\"eneter the father name\")\n",
    "age=int(input(\"eneter your age\"))\n",
    "print(f\"name: {save} \\n roll num: {num} \\n f.name: {hola} \\n age:{age}\")\n"
   ]
  },
  {
   "cell_type": "code",
   "execution_count": null,
   "metadata": {},
   "outputs": [],
   "source": [
    "x= int(input(\"enter a number\"))\n",
    "if x%2==0:\n",
    "    print(\"even\")\n",
    "else:\n",
    "    print(\"odd\")"
   ]
  },
  {
   "cell_type": "code",
   "execution_count": null,
   "metadata": {},
   "outputs": [],
   "source": [
    "age= input(\"enter your age\")\n",
    "name = input(\"enter your name\")\n",
    "print(\"my name is\",name,\"and my age is\",age)\n",
    "print(\"my name is \"+name+\" and age is \"+age)"
   ]
  },
  {
   "cell_type": "code",
   "execution_count": null,
   "metadata": {},
   "outputs": [],
   "source": [
    "age= int(input(\"enter your age\"))\n",
    "name = input(\"enter your name\")\n",
    "print(\"my name is\",name,\"and my age is\",age)\n",
    "print(\"my name is \"+name+\" and age is \"+str(age))"
   ]
  },
  {
   "cell_type": "code",
   "execution_count": null,
   "metadata": {},
   "outputs": [],
   "source": [
    "firstName= \"Raza \"\n",
    "lastName= \"Naqvi\"\n",
    "print(firstName+lastName)"
   ]
  },
  {
   "cell_type": "code",
   "execution_count": null,
   "metadata": {},
   "outputs": [],
   "source": [
    "age=  input(\"enter your age\")\n",
    "name= input(\"enter your name\")\n",
    "print(\"my name is {} and my age is {}\".format(name,age))"
   ]
  },
  {
   "cell_type": "code",
   "execution_count": null,
   "metadata": {},
   "outputs": [],
   "source": [
    "age=  input(\"enter your age\")\n",
    "name= input(\"enter your name\")\n",
    "print(f\"my name is {name} and my age is {age}\")"
   ]
  },
  {
   "cell_type": "code",
   "execution_count": null,
   "metadata": {},
   "outputs": [],
   "source": [
    "print(10/3) #bydefault float mai\n",
    "print(10//3) #int mai deyga"
   ]
  },
  {
   "cell_type": "code",
   "execution_count": null,
   "metadata": {},
   "outputs": [],
   "source": [
    "age1=10\n",
    "age2=2\n",
    "print(age1+age2)"
   ]
  },
  {
   "cell_type": "code",
   "execution_count": null,
   "metadata": {},
   "outputs": [],
   "source": [
    "age1= age1+10\n",
    "print(age1)"
   ]
  },
  {
   "cell_type": "code",
   "execution_count": null,
   "metadata": {},
   "outputs": [],
   "source": [
    "10>12"
   ]
  },
  {
   "cell_type": "code",
   "execution_count": null,
   "metadata": {
    "scrolled": true
   },
   "outputs": [],
   "source": [
    "num1= input(\" enetr num1\")\n",
    "num2= input(\" enetr num2\")\n",
    "if num1>num2:\n",
    "    print(\"num1 is grater than num2\")\n",
    "    \n",
    "if num1==num2:\n",
    "    print(\"num1 is equal to num2\")\n",
    "    \n",
    "else:\n",
    "    print(\"num2 is grater than num1\")"
   ]
  },
  {
   "cell_type": "code",
   "execution_count": null,
   "metadata": {},
   "outputs": [],
   "source": [
    "age= int(input(\"eneter your age\"))\n",
    "if age>=18:\n",
    "    print(\"age is valid\")\n",
    "    ticket = input(\"do you have it\")\n",
    "    if ticket==\"yes\":\n",
    "        print(\"ticket is ok you can can enter\")\n",
    "else:\n",
    "    print(\"get lost\")"
   ]
  },
  {
   "cell_type": "code",
   "execution_count": null,
   "metadata": {},
   "outputs": [],
   "source": [
    "age= int(input(\"eneter your age\"))\n",
    "if age>=18:\n",
    "    print(\"age is valid\")\n",
    "    cnic = input(\"do you have cnic\")\n",
    "    if cnic==\"yes\":\n",
    "        \n",
    "        print(\"you can caste your vote\")\n",
    "else:\n",
    "    print(\"barey hou kr ao\")"
   ]
  },
  {
   "cell_type": "code",
   "execution_count": null,
   "metadata": {},
   "outputs": [],
   "source": [
    "name, age, hola= input(\"eneter 3 nums\").split(\"|\")\n",
    "print((int(name)+int(age)+int(hola))/3)\n",
    "                  "
   ]
  },
  {
   "cell_type": "code",
   "execution_count": null,
   "metadata": {},
   "outputs": [],
   "source": [
    "name= \"razanaqvianas\"\n",
    "print(name[8:5:-1])"
   ]
  },
  {
   "cell_type": "code",
   "execution_count": null,
   "metadata": {},
   "outputs": [],
   "source": [
    "name= \"raza ali nAqvi\"\n",
    "#print(name.title())\n",
    "print(name.lower())\n",
    "print(name.lower().count(\"a\"))\n",
    "#print(name.count(\"A\"))"
   ]
  },
  {
   "cell_type": "code",
   "execution_count": null,
   "metadata": {},
   "outputs": [],
   "source": [
    "x= int(input(\"enter num\"))\n",
    "\n",
    "if x%2==0:\n",
    "    print(\"even\")\n",
    "    \n",
    "else:\n",
    "    print(\"odd\")"
   ]
  },
  {
   "cell_type": "code",
   "execution_count": null,
   "metadata": {},
   "outputs": [],
   "source": [
    "a,b,c=int(input(\"enetr a b c\"))\n",
    "if int(a)>int(b) and int(a)>int(c):\n",
    "    print(f\"{int(a)} is greater\")\n",
    "    \n"
   ]
  },
  {
   "cell_type": "code",
   "execution_count": null,
   "metadata": {},
   "outputs": [],
   "source": [
    "a= int(input(\"value of a \"))\n",
    "b= int(input(\"value of b \"))\n",
    "c= int(input(\"value of c \"))\n",
    "d=(b**2-4*a*c)\n",
    "num=((-b)+(d**0.5))/2*a\n",
    "num1=((-b)-(d**0.5))/2*a\n",
    "if d>=0 :\n",
    "    print(num)\n",
    "    print(num1)\n",
    "else:\n",
    "    print(\"NUMBER CHANGE KR!\")\n",
    "    #num1= -b-(b**2-4ac)**0.5/2a"
   ]
  },
  {
   "cell_type": "code",
   "execution_count": null,
   "metadata": {},
   "outputs": [],
   "source": [
    "cnic_status = input(\"do you have a valid cnic\")\n",
    "name_in_list = input(\"is your name is the list?\")\n",
    "if ((cnic_status==\"yes\") and (name_in_list==\"yes\")):\n",
    "    print(\"you can caste you vote\")\n",
    "    \n",
    "else:\n",
    "    print(\"barey hou kr ao\")"
   ]
  },
  {
   "cell_type": "code",
   "execution_count": null,
   "metadata": {},
   "outputs": [],
   "source": [
    "name=\"pakistan\"\n",
    "name"
   ]
  },
  {
   "cell_type": "code",
   "execution_count": null,
   "metadata": {},
   "outputs": [],
   "source": [
    "name.upper()"
   ]
  },
  {
   "cell_type": "code",
   "execution_count": null,
   "metadata": {},
   "outputs": [],
   "source": [
    "name.lower()"
   ]
  },
  {
   "cell_type": "code",
   "execution_count": null,
   "metadata": {},
   "outputs": [],
   "source": [
    "name.count(\"a\")"
   ]
  },
  {
   "cell_type": "code",
   "execution_count": null,
   "metadata": {},
   "outputs": [],
   "source": [
    "marks=int(input(\"enter your marks \"))\n",
    "grade=\" \"\n",
    "if marks>=90:\n",
    "    grade=\"A+\"\n",
    "elif marks>=80:\n",
    "    grade=\"A\"\n",
    "elif marks>=70:\n",
    "    grade=\"B\"\n",
    "else:\n",
    "    print(\"you are fail\")\n",
    "    \n",
    "print(\"your grade is \" , grade)"
   ]
  },
  {
   "cell_type": "code",
   "execution_count": null,
   "metadata": {},
   "outputs": [],
   "source": [
    "a= 2\n",
    "b= 3\n",
    "c=a+b\n",
    "print(c)"
   ]
  },
  {
   "cell_type": "code",
   "execution_count": null,
   "metadata": {},
   "outputs": [],
   "source": [
    "aList = ['oranges', 'apple','banana', 'peach']\n",
    "aList.remove('banana')\n",
    "print(aList)"
   ]
  },
  {
   "cell_type": "code",
   "execution_count": null,
   "metadata": {},
   "outputs": [],
   "source": []
  },
  {
   "cell_type": "code",
   "execution_count": null,
   "metadata": {},
   "outputs": [],
   "source": []
  },
  {
   "cell_type": "code",
   "execution_count": null,
   "metadata": {},
   "outputs": [],
   "source": [
    "sortList = [1,2,4,5]"
   ]
  },
  {
   "cell_type": "code",
   "execution_count": null,
   "metadata": {},
   "outputs": [],
   "source": [
    "sortList.sort() #FORACCENDINGORDER\n",
    "sortList"
   ]
  },
  {
   "cell_type": "code",
   "execution_count": null,
   "metadata": {},
   "outputs": [],
   "source": [
    "sortList.sort(reverse = True) #for desesending order #by defult reverse FALSE\n",
    "sortList"
   ]
  },
  {
   "cell_type": "code",
   "execution_count": null,
   "metadata": {},
   "outputs": [],
   "source": [
    "newList=[23,4,56,6]"
   ]
  },
  {
   "cell_type": "code",
   "execution_count": null,
   "metadata": {},
   "outputs": [],
   "source": [
    "newList.reverse()#SORTNHIKRTAREVERSEKRTABASLISTKO\n",
    "newList"
   ]
  },
  {
   "cell_type": "code",
   "execution_count": null,
   "metadata": {},
   "outputs": [],
   "source": [
    "newList.clear() #list ko clear krny ky lilye\n",
    "newList"
   ]
  },
  {
   "cell_type": "code",
   "execution_count": null,
   "metadata": {},
   "outputs": [],
   "source": [
    "oldList=['taha', 'anas','sohaib' , 'raza'] #string ki list"
   ]
  },
  {
   "cell_type": "code",
   "execution_count": null,
   "metadata": {},
   "outputs": [],
   "source": [
    "oldList.sort(reverse = True) #for desesending order #by defult reverse FALSE\n",
    "oldList"
   ]
  },
  {
   "cell_type": "code",
   "execution_count": null,
   "metadata": {},
   "outputs": [],
   "source": [
    "rList=[23, 45,56,55]"
   ]
  },
  {
   "cell_type": "code",
   "execution_count": null,
   "metadata": {},
   "outputs": [],
   "source": [
    "x = rList.pop()"
   ]
  },
  {
   "cell_type": "code",
   "execution_count": null,
   "metadata": {},
   "outputs": [],
   "source": [
    "print(rList)\n",
    "print(x)"
   ]
  },
  {
   "cell_type": "code",
   "execution_count": null,
   "metadata": {},
   "outputs": [],
   "source": [
    "oList=['X', 'Y','z' , 'a'] #string ki list"
   ]
  },
  {
   "cell_type": "code",
   "execution_count": null,
   "metadata": {},
   "outputs": [],
   "source": [
    "oList.sort()\n",
    "oList"
   ]
  },
  {
   "cell_type": "code",
   "execution_count": null,
   "metadata": {},
   "outputs": [],
   "source": [
    "sList= [22,33,44,55]\n",
    "fList=[]"
   ]
  },
  {
   "cell_type": "code",
   "execution_count": null,
   "metadata": {},
   "outputs": [],
   "source": [
    "fList.append(sList.pop())"
   ]
  },
  {
   "cell_type": "code",
   "execution_count": null,
   "metadata": {},
   "outputs": [],
   "source": [
    "print(fList)"
   ]
  },
  {
   "cell_type": "code",
   "execution_count": null,
   "metadata": {},
   "outputs": [],
   "source": [
    "tList=[33,55,66,88]\n",
    "yList=[]"
   ]
  },
  {
   "cell_type": "code",
   "execution_count": null,
   "metadata": {},
   "outputs": [],
   "source": [
    "g=tList.pop()"
   ]
  },
  {
   "cell_type": "code",
   "execution_count": null,
   "metadata": {},
   "outputs": [],
   "source": [
    "print(tList)\n",
    "print(g)"
   ]
  },
  {
   "cell_type": "code",
   "execution_count": null,
   "metadata": {},
   "outputs": [],
   "source": [
    "yList.append(tList.pop())\n",
    "print(yList)"
   ]
  },
  {
   "cell_type": "code",
   "execution_count": null,
   "metadata": {},
   "outputs": [],
   "source": [
    "r= [222,444,555]\n",
    "n= []"
   ]
  },
  {
   "cell_type": "code",
   "execution_count": null,
   "metadata": {},
   "outputs": [],
   "source": [
    "if len(r)!=0:\n",
    "    n.append(r.pop())\n",
    "    print(r)\n",
    "    print(n)\n",
    "else:\n",
    "    print(\"list ktm hogai bhai\")"
   ]
  },
  {
   "cell_type": "markdown",
   "metadata": {},
   "source": [
    "# SLICING"
   ]
  },
  {
   "cell_type": "code",
   "execution_count": null,
   "metadata": {},
   "outputs": [],
   "source": [
    "b[2]"
   ]
  },
  {
   "cell_type": "code",
   "execution_count": null,
   "metadata": {},
   "outputs": [],
   "source": [
    "b[0:2]"
   ]
  },
  {
   "cell_type": "code",
   "execution_count": null,
   "metadata": {},
   "outputs": [],
   "source": [
    "p=[44,55,66,77,88,99,0,11,22,33]"
   ]
  },
  {
   "cell_type": "code",
   "execution_count": null,
   "metadata": {},
   "outputs": [],
   "source": [
    "print(p)\n",
    "p[0:8:3]"
   ]
  },
  {
   "cell_type": "markdown",
   "metadata": {},
   "source": [
    "# REVERSING INDEX"
   ]
  },
  {
   "cell_type": "markdown",
   "metadata": {},
   "source": [
    "# passing fuction arguments and parameters"
   ]
  },
  {
   "cell_type": "code",
   "execution_count": null,
   "metadata": {},
   "outputs": [],
   "source": [
    "def cars(model, make, *specs):\n",
    "    print(model,make)\n",
    "    print(specs)"
   ]
  },
  {
   "cell_type": "code",
   "execution_count": null,
   "metadata": {},
   "outputs": [],
   "source": [
    " cars(2010,'toyota corolla', 'automatic','tape','power windows')"
   ]
  },
  {
   "cell_type": "code",
   "execution_count": null,
   "metadata": {},
   "outputs": [],
   "source": [
    "def pizza(size, flavour, *customer):\n",
    "    print(size,flavour)\n",
    "    print(customer)"
   ]
  },
  {
   "cell_type": "code",
   "execution_count": null,
   "metadata": {},
   "outputs": [],
   "source": [
    "pizza('large','fajita', '03100033444' ,'Sohaib khan', 'ahmad')"
   ]
  },
  {
   "cell_type": "markdown",
   "metadata": {},
   "source": [
    "# fuctions as variables or as argument"
   ]
  },
  {
   "cell_type": "code",
   "execution_count": null,
   "metadata": {},
   "outputs": [],
   "source": [
    "def add():\n",
    "    x = 2+3\n",
    "    return x"
   ]
  },
  {
   "cell_type": "code",
   "execution_count": null,
   "metadata": {},
   "outputs": [],
   "source": [
    "def sub():\n",
    "    y = 4-3\n",
    "    return y"
   ]
  },
  {
   "cell_type": "code",
   "execution_count": null,
   "metadata": {},
   "outputs": [],
   "source": [
    "answer = add()+sub()\n",
    "print(answer)"
   ]
  },
  {
   "cell_type": "code",
   "execution_count": null,
   "metadata": {},
   "outputs": [],
   "source": [
    "def salary(basic, commision):\n",
    "        total= basic + commision\n",
    "        print(f\" your salary is:{total}\")"
   ]
  },
  {
   "cell_type": "code",
   "execution_count": null,
   "metadata": {},
   "outputs": [],
   "source": [
    "def commisionCaculator(sales):\n",
    "        if sales>=100000:\n",
    "            percentage = 30\n",
    "        elif sales>= 50000:\n",
    "            percentage = 20\n",
    "        elif sales>= 30000:\n",
    "            percentage = 10\n",
    "        elif sales>= 20000:\n",
    "            percentage = 10\n",
    "        else"
   ]
  },
  {
   "cell_type": "code",
   "execution_count": null,
   "metadata": {},
   "outputs": [],
   "source": [
    "fruit = \"Apple\"\n",
    "\n",
    "def alocal():\n",
    "    a=100\n",
    "    #fruit=\"banana\"\n",
    "    print(fruit)\n",
    "    print(a)"
   ]
  },
  {
   "cell_type": "code",
   "execution_count": null,
   "metadata": {},
   "outputs": [],
   "source": [
    "alocal()"
   ]
  },
  {
   "cell_type": "code",
   "execution_count": null,
   "metadata": {},
   "outputs": [],
   "source": [
    "for name in range(3):\n",
    "    name = input(\"enter your name \")\n",
    "    print(name)"
   ]
  },
  {
   "cell_type": "code",
   "execution_count": null,
   "metadata": {},
   "outputs": [],
   "source": [
    "a=0\n",
    "while a<10:\n",
    "    print(a)\n",
    "    a +=2"
   ]
  },
  {
   "cell_type": "code",
   "execution_count": null,
   "metadata": {},
   "outputs": [],
   "source": [
    "for a in range(1):\n",
    "print(a)"
   ]
  },
  {
   "cell_type": "code",
   "execution_count": null,
   "metadata": {},
   "outputs": [],
   "source": [
    "flag = True\n",
    "while flag:\n",
    "    name =input(\"name bata\")\n",
    "    print(name)\n",
    "    if name==\"exit\":\n",
    "        flag= False"
   ]
  },
  {
   "cell_type": "markdown",
   "metadata": {},
   "source": [
    "# Classes #attributes variables\n",
    "    #behaviours fuctions"
   ]
  },
  {
   "cell_type": "code",
   "execution_count": null,
   "metadata": {},
   "outputs": [],
   "source": [
    "class Patient():\n",
    "    def __init__(self, pid, pname, diasese, age, gender):\n",
    "        self.pid = pid\n",
    "        self.pname = pname\n",
    "        self.diasese= diasese\n",
    "        self.age= age\n",
    "        self.gender= gender"
   ]
  },
  {
   "cell_type": "code",
   "execution_count": null,
   "metadata": {},
   "outputs": [],
   "source": [
    "p1= Patient(69, \"Sohaib\",\"mental\",20,\"male\")"
   ]
  },
  {
   "cell_type": "code",
   "execution_count": null,
   "metadata": {},
   "outputs": [],
   "source": [
    "p2= Patient(22,\"ANAS\", \"pyaar mai pagal\", 20,\"male\")"
   ]
  },
  {
   "cell_type": "code",
   "execution_count": null,
   "metadata": {},
   "outputs": [],
   "source": [
    "p3= Patient(22, \"Raza\", \"FIT\", 18,\"male\")"
   ]
  },
  {
   "cell_type": "code",
   "execution_count": null,
   "metadata": {},
   "outputs": [],
   "source": [
    "p1.age ,p1.pname ,p1.pid ,p1.diasese ,p1.gender"
   ]
  },
  {
   "cell_type": "markdown",
   "metadata": {},
   "source": [
    "# IN STATEMEnT"
   ]
  },
  {
   "cell_type": "code",
   "execution_count": null,
   "metadata": {},
   "outputs": [],
   "source": [
    "new =\"my name is raza\"\n",
    "if \"a\" in new:\n",
    "    print(\"'a' is here\")"
   ]
  },
  {
   "cell_type": "code",
   "execution_count": null,
   "metadata": {},
   "outputs": [],
   "source": [
    "hola= input(\"string bata?\")\n",
    "op= input(\"which word to check\")\n",
    "\n",
    "if op.upper() in hola.upper():\n",
    "    \n",
    "    print(f\"{op} is here\")\n",
    "else: pass\n",
    "    \n",
    "\n",
    "\n",
    "#elif op in hola:\n",
    "   # hola.lower()\n",
    "   # print(f\"{op} is here\")\n"
   ]
  },
  {
   "cell_type": "code",
   "execution_count": null,
   "metadata": {},
   "outputs": [],
   "source": [
    "n= int(input(\"kahan takk karana\"))\n",
    "a = int(input(\"enter a number \"))\n",
    "for c in range(0,n+1):\n",
    "    b=a*n\n",
    "    print(f\"{c} *{n}= {b}\")"
   ]
  },
  {
   "cell_type": "code",
   "execution_count": null,
   "metadata": {},
   "outputs": [],
   "source": [
    "ullu= input(\"naam daal \")\n",
    "    "
   ]
  },
  {
   "cell_type": "code",
   "execution_count": null,
   "metadata": {},
   "outputs": [],
   "source": [
    "my_info=[1,2,3,4,5]\n",
    "\n",
    "my_info.clear()\n",
    "print()"
   ]
  },
  {
   "cell_type": "code",
   "execution_count": null,
   "metadata": {},
   "outputs": [],
   "source": [
    "my_list=[]\n",
    "while True:\n",
    "    b=input(\"you want to aad?\")\n",
    "    if b==\"y\" or b==\"Y\":\n",
    "        a=input(\"kiya dalna hhai\")\n",
    "        my_list.append(a)\n",
    "        print(my_list)\n",
    "    elif b==\"e\":\n",
    "        c=input(\"delete krna?\")\n",
    "        my_list.remove(c)\n",
    "        print(my_list)\n",
    "    else:\n",
    "        f=input(\"do yo wNT TO CONT Y/N\")"
   ]
  },
  {
   "cell_type": "code",
   "execution_count": null,
   "metadata": {},
   "outputs": [],
   "source": [
    "i=1\n",
    "while i<=11:\n",
    "    print(i)\n",
    "    i=i+1"
   ]
  },
  {
   "cell_type": "code",
   "execution_count": 3,
   "metadata": {},
   "outputs": [
    {
     "name": "stdout",
     "output_type": "stream",
     "text": [
      "1\n",
      "2\n",
      "3\n",
      "4\n",
      "5\n",
      "6\n",
      "7\n",
      "8\n",
      "9\n",
      "10\n",
      "11\n"
     ]
    }
   ],
   "source": [
    "i=1\n",
    "while i<=11:\n",
    "    print(i)\n",
    "    i+=1"
   ]
  },
  {
   "cell_type": "code",
   "execution_count": null,
   "metadata": {},
   "outputs": [],
   "source": []
  }
 ],
 "metadata": {
  "kernelspec": {
   "display_name": "Python 3",
   "language": "python",
   "name": "python3"
  },
  "language_info": {
   "codemirror_mode": {
    "name": "ipython",
    "version": 3
   },
   "file_extension": ".py",
   "mimetype": "text/x-python",
   "name": "python",
   "nbconvert_exporter": "python",
   "pygments_lexer": "ipython3",
   "version": "3.7.3"
  }
 },
 "nbformat": 4,
 "nbformat_minor": 2
}
