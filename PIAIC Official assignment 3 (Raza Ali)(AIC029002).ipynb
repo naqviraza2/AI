{
 "cells": [
  {
   "cell_type": "markdown",
   "metadata": {},
   "source": [
    "# Q1 Think of at least three kinds of your favorite pizza. Store these pizza names in a list, and then use a for loop to print the name of each pizza.\n",
    "\n",
    "​"
   ]
  },
  {
   "cell_type": "code",
   "execution_count": 4,
   "metadata": {},
   "outputs": [
    {
     "name": "stdout",
     "output_type": "stream",
     "text": [
      "arabic\n",
      "fajita\n",
      "chiken\n"
     ]
    }
   ],
   "source": [
    "list = [\"arabic\", \"fajita\", \"chiken\"]\n",
    "for pizza in list:\n",
    "    print(pizza)"
   ]
  },
  {
   "cell_type": "markdown",
   "metadata": {},
   "source": [
    "# Q2 Start with your last question , Modify your for loop to print a sentence using the name of the pizza instead of printing just the name of the pizza. For each pizza you should have one line of output containing a simple statement like I like pepperoni pizza."
   ]
  },
  {
   "cell_type": "code",
   "execution_count": 5,
   "metadata": {},
   "outputs": [
    {
     "name": "stdout",
     "output_type": "stream",
     "text": [
      "i really like arabic pizza. \n",
      "i really like fajita pizza. \n",
      "i really like chiken pizza. \n"
     ]
    }
   ],
   "source": [
    " list = [\"arabic\", \"fajita\", \"chiken\"]\n",
    "for pizza in list:\n",
    "    print(\"i really like \" + pizza + \" pizza. \")"
   ]
  },
  {
   "cell_type": "markdown",
   "metadata": {},
   "source": [
    "# Q3:\n",
    "Use a for loop to print the numbers from 1 to 20, inclusive."
   ]
  },
  {
   "cell_type": "code",
   "execution_count": 6,
   "metadata": {},
   "outputs": [
    {
     "name": "stdout",
     "output_type": "stream",
     "text": [
      "1\n",
      "2\n",
      "3\n",
      "4\n",
      "5\n",
      "6\n",
      "7\n",
      "8\n",
      "9\n",
      "10\n",
      "11\n",
      "12\n",
      "13\n",
      "14\n",
      "15\n",
      "16\n",
      "17\n",
      "18\n",
      "19\n",
      "20\n"
     ]
    }
   ],
   "source": [
    "for number in range(1,21):\n",
    "    print(number)"
   ]
  },
  {
   "cell_type": "markdown",
   "metadata": {},
   "source": [
    "# Q4:\n",
    "Use the third argument of the range() function to make a list of the odd numbers from 1 to 20. Use a for loop to print each number."
   ]
  },
  {
   "cell_type": "code",
   "execution_count": 7,
   "metadata": {},
   "outputs": [
    {
     "name": "stdout",
     "output_type": "stream",
     "text": [
      "1\n",
      "3\n",
      "5\n",
      "7\n",
      "9\n",
      "11\n",
      "13\n",
      "15\n",
      "17\n",
      "19\n"
     ]
    }
   ],
   "source": [
    "for oddNumber in range (1,20,2):\n",
    "    print(oddNumber)"
   ]
  },
  {
   "cell_type": "markdown",
   "metadata": {},
   "source": [
    "# Q5:\n",
    "Make a list of the multiples of 3 from 3 to 30. Use a for loop to print the numbers in your list."
   ]
  },
  {
   "cell_type": "code",
   "execution_count": 20,
   "metadata": {},
   "outputs": [
    {
     "name": "stdout",
     "output_type": "stream",
     "text": [
      "3\n",
      "6\n",
      "9\n",
      "12\n",
      "15\n",
      "18\n",
      "21\n",
      "24\n",
      "27\n",
      "30\n"
     ]
    }
   ],
   "source": [
    "for oddNumber in range (3,31,3):\n",
    "    print(oddNumber)"
   ]
  },
  {
   "cell_type": "code",
   "execution_count": 24,
   "metadata": {},
   "outputs": [],
   "source": [
    "three = [list in (range (3, 31, 3))]"
   ]
  },
  {
   "cell_type": "code",
   "execution_count": 25,
   "metadata": {},
   "outputs": [
    {
     "name": "stdout",
     "output_type": "stream",
     "text": [
      "[False]\n"
     ]
    }
   ],
   "source": [
    "for t in three:\n",
    "    print(three)"
   ]
  },
  {
   "cell_type": "markdown",
   "metadata": {},
   "source": [
    "# Q6:\n",
    "A number raised to the third power is called a cube. For example, the cube of 2 is written as 2**3 in Python. Make a list of the first 10 cubes (that is, the cube of each integer from 1 through 10), and use a for loop to print out the value of each cube"
   ]
  },
  {
   "cell_type": "code",
   "execution_count": 26,
   "metadata": {},
   "outputs": [
    {
     "name": "stdout",
     "output_type": "stream",
     "text": [
      "1\n",
      "8\n",
      "27\n",
      "64\n",
      "125\n",
      "216\n",
      "343\n",
      "512\n",
      "729\n"
     ]
    }
   ],
   "source": [
    "cubes = [number ** 3 for number in range(1,10)]\n",
    "for cube in cubes:\n",
    "    print(cube)"
   ]
  },
  {
   "cell_type": "markdown",
   "metadata": {},
   "source": [
    "# Q7:\n",
    "Make a python program that conatains your nine favourite dishes in a list called foods.\n",
    "Print the message, The first three items in the list are:.\n",
    "Then use a slice to print the first three items from that program’s list.\n",
    "Print the message, Three items from the middle of the list are:\n",
    "Use a slice to print three items from the middle of the list.\n",
    "Print the message, The last three items in the list are:\n",
    "Use a slice to print the last three items in the list."
   ]
  },
  {
   "cell_type": "code",
   "execution_count": 35,
   "metadata": {},
   "outputs": [],
   "source": [
    "foods = [\"AChar Gosht\", \"biryani\", \"chicken karahi\", \"bar B.Q\", \"qorma\", \"haleem\", \"beef pulao\", \"burger\", \"kabab\"]\n",
    "    "
   ]
  },
  {
   "cell_type": "code",
   "execution_count": 36,
   "metadata": {},
   "outputs": [
    {
     "name": "stdout",
     "output_type": "stream",
     "text": [
      "the first three items in the list are:\n",
      "AChar Gosht\n",
      "biryani\n",
      "chicken karahi\n"
     ]
    }
   ],
   "source": [
    "print(\"the first three items in the list are:\")\n",
    "for item in foods[:3]:\n",
    "    print(item)"
   ]
  },
  {
   "cell_type": "code",
   "execution_count": 37,
   "metadata": {},
   "outputs": [
    {
     "name": "stdout",
     "output_type": "stream",
     "text": [
      "three items from the middle of the list are:\n",
      "bar B.Q\n",
      "qorma\n",
      "haleem\n"
     ]
    }
   ],
   "source": [
    "print(\"three items from the middle of the list are:\")\n",
    "\n",
    "for item in foods[3:6]:\n",
    "    print(item)"
   ]
  },
  {
   "cell_type": "code",
   "execution_count": 38,
   "metadata": {},
   "outputs": [
    {
     "name": "stdout",
     "output_type": "stream",
     "text": [
      "the last three items in the list are:\n",
      "beef pulao\n",
      "burger\n",
      "kabab\n"
     ]
    }
   ],
   "source": [
    "print(\"the last three items in the list are:\")\n",
    "\n",
    "for item in foods[6:9]:\n",
    "    print(item)"
   ]
  },
  {
   "cell_type": "markdown",
   "metadata": {},
   "source": [
    "# Q8:\n",
    "Start with your program from your last Question8.\n",
    "Make a copy of the list of foods, and call it friend_foods.\n",
    "Then, do the following:\n",
    "Add a new dish to the original list.\n",
    "Add a different dish to the list friend_foodss.\n",
    "Prove that you have two separate lists.\n",
    "Print the message, My favorite pizzas are: and then use a for loop to print the first list.\n",
    "Print the message,\n",
    "My friend’s favorite foods are:, and then use a for loop to print the second list.\n",
    "NOTE: Make sure each new dish is stored in the appropriate list."
   ]
  },
  {
   "cell_type": "code",
   "execution_count": 39,
   "metadata": {},
   "outputs": [],
   "source": [
    "friend_foods = [\"chicken munchurian\", \"biryani\", \"chicken karahi\", \"bar B.Q\", \"qorma\", \"daleem\", \"pulao\", \"zinger burger\", \"chapli kabab\", \"nehari\"]   "
   ]
  },
  {
   "cell_type": "code",
   "execution_count": 40,
   "metadata": {},
   "outputs": [],
   "source": [
    "friend_foodss = [\"chicken munchurian\", \"biryani\", \"chicken karahi\", \"bar B.Q\", \"qorma\", \"daleem\", \"pulao\", \"zinger burger\", \"chapli kabab\",\"aloo gosht\"]"
   ]
  },
  {
   "cell_type": "code",
   "execution_count": 41,
   "metadata": {},
   "outputs": [
    {
     "name": "stdout",
     "output_type": "stream",
     "text": [
      "chicken munchurian\n",
      "biryani\n",
      "chicken karahi\n",
      "bar B.Q\n",
      "qorma\n",
      "daleem\n",
      "pulao\n",
      "zinger burger\n",
      "chapli kabab\n",
      "nehari\n"
     ]
    }
   ],
   "source": [
    "my_favorite_foods_are = [\"chicken munchurian\", \"biryani\", \"chicken karahi\", \"bar B.Q\", \"qorma\", \"daleem\", \"pulao\", \"zinger burger\", \"chapli kabab\", \"nehari\"]  \n",
    "for i in my_favorite_foods_are:\n",
    "    print(i)"
   ]
  },
  {
   "cell_type": "markdown",
   "metadata": {},
   "source": [
    "# Q9:\n",
    "Take a user input from console line.Store it in a variable called Alien_color.\n",
    "\n",
    "If the alien’s color is red, print a statement that the player just earned 5 points for shooting the alien.\n",
    "\n",
    "If the alien’s color isn’t green, print a statement that the player just earned 10 points.\n",
    "\n",
    "If the alien's color isn't red or green , print a statment :, Alien is no more....."
   ]
  },
  {
   "cell_type": "code",
   "execution_count": 43,
   "metadata": {},
   "outputs": [
    {
     "name": "stdout",
     "output_type": "stream",
     "text": [
      "enter alien colorred\n",
      "the player just earned 5 points for the shooting.\n"
     ]
    }
   ],
   "source": [
    "alien_color = input(\"enter alien color\")\n",
    "alien_color = alien_color.lower()\n",
    "\n",
    "if alien_color == \"red\":\n",
    "    print(\"the player just earned 5 points for the shooting.\")\n",
    "elif alien_color != \"green\":\n",
    "    print(\"the player just earned 10 points.\")\n",
    "else:\n",
    "    (\"alien is no more\")"
   ]
  },
  {
   "cell_type": "code",
   "execution_count": 45,
   "metadata": {},
   "outputs": [
    {
     "name": "stdout",
     "output_type": "stream",
     "text": [
      "enter alien color green\n",
      "the player just earned 10 points.\n"
     ]
    }
   ],
   "source": [
    "alien_color = input(\"enter alien color\")\n",
    "alien_color = alien_color.lower()\n",
    "\n",
    "if alien_color == \"red\":\n",
    "    print(\"the player just earned 5 points for the shooting.\")\n",
    "elif alien_color != \"green\":\n",
    "    print(\"the player just earned 10 points.\")\n",
    "else:\n",
    "    (\"alien is no more\")"
   ]
  },
  {
   "cell_type": "markdown",
   "metadata": {},
   "source": [
    "# Q10\n",
    "Write an if-elif-else chain that determines a person’s\n",
    "stage of life. Set a value for the variable age, and then:\n",
    "\n",
    "• If the person is less than 2 years old, print a message that the person is a baby.\n",
    "\n",
    "• If the person is at least 2 years old but less than 4, print a message that the person is a toddler.\n",
    "\n",
    "• If the person is at least 4 years old but less than 13, print a message that the person is a kid.\n",
    "\n",
    "• If the person is at least 13 years old but less than 20, print a message that the person is a teenager.\n",
    "\n",
    "• If the person is at least 20 years old but less than 65, print a message that the person is an adult.\n",
    "\n",
    "• If the person is age 65 or older, print a message that the person is an elder."
   ]
  },
  {
   "cell_type": "code",
   "execution_count": 52,
   "metadata": {},
   "outputs": [
    {
     "name": "stdout",
     "output_type": "stream",
     "text": [
      "variable age67\n",
      "a person is an elder\n"
     ]
    }
   ],
   "source": [
    "age=int(input(\"variable age\"))\n",
    "if age<2:\n",
    "    print(\"a person is a babay\")\n",
    "if age<=4:\n",
    "    print(\"a person is a toddler\")\n",
    "if age >=4 and age <=13:\n",
    "    print(\"a prson is a kid\")\n",
    "if age >13 and age <20:\n",
    "    print(\"a person is a teenager\")\n",
    "if age >=20 and age <65:\n",
    "    print(\"a person is an adult\")\n",
    "if age >=65:\n",
    "    print(\"a person is an elder\")"
   ]
  },
  {
   "cell_type": "code",
   "execution_count": 54,
   "metadata": {},
   "outputs": [
    {
     "name": "stdout",
     "output_type": "stream",
     "text": [
      "variable age2\n",
      "a person is a toddler\n"
     ]
    }
   ],
   "source": [
    "age=int(input(\"variable age\"))\n",
    "if age<2:\n",
    "    print(\"a person is a babay\")\n",
    "if age<=4:\n",
    "    print(\"a person is a toddler\")\n",
    "if age >=4 and age <=13:\n",
    "    print(\"a prson is a kid\")\n",
    "if age >13 and age <20:\n",
    "    print(\"a person is a teenager\")\n",
    "if age >=20 and age <65:\n",
    "    print(\"a person is an adult\")\n",
    "if age >=65:\n",
    "    print(\"a person is an elder\")"
   ]
  },
  {
   "cell_type": "code",
   "execution_count": 8,
   "metadata": {},
   "outputs": [
    {
     "name": "stdout",
     "output_type": "stream",
     "text": [
      "variable age33\n",
      "a person is an adult\n"
     ]
    }
   ],
   "source": [
    "age=int(input(\"variable age\"))\n",
    "if age<2:\n",
    "    print(\"a person is a babay\")\n",
    "if age<=4:\n",
    "    print(\"a person is a toddler\")\n",
    "if age >=4 and age <=13:\n",
    "    print(\"a person is a kid\")\n",
    "if age >13 and age <20:\n",
    "    print(\"a person is a teenager\")\n",
    "if age >=20 and age <65:\n",
    "    print(\"a person is an adult\")\n",
    "if age >=65:\n",
    "    print(\"a person is an elder\")"
   ]
  },
  {
   "cell_type": "markdown",
   "metadata": {},
   "source": [
    "# Q11:\n",
    "Do the following to create a program that simulates how websites ensure that everyone has a unique username.\n",
    "\n",
    "• Make a list of five or more usernames called current_users.\n",
    "\n",
    "• Make another list of five usernames called new_users. Make sure one or two of the new usernames are also in the current_users list.\n",
    "\n",
    "• Loop through the new_users list to see if each new username has already been used. If it has, print a message that the person will need to enter a new username. If a username has not been used, print a message saying that the username is available.\n",
    "\n",
    "• Make sure your comparison is case insensitive. If 'John' has been used, 'JOHN' should not be accepted."
   ]
  },
  {
   "cell_type": "code",
   "execution_count": 4,
   "metadata": {},
   "outputs": [],
   "source": [
    "current_users=[\"bina\", \"aliya\", \"sarfaraz\", \"fatima\", \"anas\", \"sajid\"]"
   ]
  },
  {
   "cell_type": "code",
   "execution_count": 5,
   "metadata": {},
   "outputs": [],
   "source": [
    "new_users=[\"uzma\", \"aliya\", \"Areeba\", \"shiza\", \"naima\", \"amina\", \"shanzay\"]"
   ]
  },
  {
   "cell_type": "code",
   "execution_count": 6,
   "metadata": {},
   "outputs": [],
   "source": [
    "current_users_lower=[user.lower() for user in current_users]"
   ]
  },
  {
   "cell_type": "code",
   "execution_count": 7,
   "metadata": {},
   "outputs": [
    {
     "name": "stdout",
     "output_type": "stream",
     "text": [
      "sorry aliya,username has already been used.\n",
      "congratulations, shanzay is available yet\n"
     ]
    }
   ],
   "source": [
    "for new_user in new_users:\n",
    "    if new_user.lower()in current_users_lower:\n",
    "        print(\"sorry \"+ new_user +\",username has already been used.\")\n",
    "else:print(\"congratulations, \"+ new_user + \" is available yet\")"
   ]
  },
  {
   "cell_type": "markdown",
   "metadata": {},
   "source": [
    "# Q12:\n",
    "Use a dictionary to store information about a person you know. Store their first name, last name, age, and the city in which they live. You should have keys such as first_name, last_name, age, and city. Print each piece of information stored in your dictionary"
   ]
  },
  {
   "cell_type": "code",
   "execution_count": 69,
   "metadata": {},
   "outputs": [],
   "source": [
    "cousin_dict = {\"first_name\":\"talha\",\"last_name\":\"Mehtab\",\"age\":\"22\",\"city\":\"Karachi\"}"
   ]
  },
  {
   "cell_type": "code",
   "execution_count": 70,
   "metadata": {},
   "outputs": [
    {
     "name": "stdout",
     "output_type": "stream",
     "text": [
      "talha\n",
      "Mehtab\n",
      "22\n",
      "Karachi\n"
     ]
    }
   ],
   "source": [
    "print(cousin_dict[\"first_name\"])\n",
    "print(cousin_dict[\"last_name\"])\n",
    "print(cousin_dict[\"age\"])\n",
    "print(cousin_dict[\"city\"])"
   ]
  },
  {
   "cell_type": "markdown",
   "metadata": {},
   "source": [
    "# Q13:\n",
    "Starts with your last question 12 , loop through the dictionary’s keys and values. When you’re sure that your loop works, add five more Python terms to your dictionary . When you run your program again, these new words and meanings should automatically be included in the output."
   ]
  },
  {
   "cell_type": "code",
   "execution_count": 2,
   "metadata": {},
   "outputs": [],
   "source": [
    "cousin_dict = {\"first_name\":\"RAZA\",\"last_name\":\"NAQVI\",\"age\":\"18\",\"city\":\"Karachi\"}"
   ]
  },
  {
   "cell_type": "code",
   "execution_count": 3,
   "metadata": {},
   "outputs": [
    {
     "name": "stdout",
     "output_type": "stream",
     "text": [
      "first_name: RAZA\n",
      "last_name: NAQVI\n",
      "age: 18\n",
      "city: Karachi\n",
      "father name: Wasaf ali\n",
      "CNIC: 43101-83266567-0\n",
      "status: single\n",
      "work: SOFTWARE\n",
      "current city: KARACHI\n"
     ]
    }
   ],
   "source": [
    "cousin_dict[\"father name\"]=\"Wasaf ali\"\n",
    "cousin_dict[\"CNIC\"]=\"43101-83266567-0\"\n",
    "cousin_dict[\"status\"]=\"single\"\n",
    "cousin_dict[\"work\"]=\"SOFTWARE\"\n",
    "cousin_dict[\"current city\"]=\"KARACHI\"\n",
    "\n",
    "for keys,values in cousin_dict.items():\n",
    "    print(f\"{keys}: {values}\")"
   ]
  },
  {
   "cell_type": "markdown",
   "metadata": {},
   "source": [
    "# Q14:\n",
    "Make a dictionary containing three major rivers and the country each river runs through. One key-value pair might be 'nile': 'egypt'.\n",
    "\n",
    "• Use a loop to print a sentence about each river, such as The Nile runs through Egypt.\n",
    "\n",
    "NOTE: use upper case through keys and values."
   ]
  },
  {
   "cell_type": "code",
   "execution_count": 76,
   "metadata": {},
   "outputs": [
    {
     "name": "stdout",
     "output_type": "stream",
     "text": [
      "Ravi runs through Pakistan\n",
      "Nile runs through Egypt\n",
      "Amazon runs through Peru\n"
     ]
    }
   ],
   "source": [
    "river={'Ravi':'Pakistan','Nile':'Egypt','Amazon':'Peru'}\n",
    "\n",
    "for k,v in river.items():\n",
    "    print(k,'runs through',v)"
   ]
  },
  {
   "cell_type": "markdown",
   "metadata": {},
   "source": [
    "# Q15:\n",
    "Make several dictionaries, where the name of each dictionary is the name of a pet. In each dictionary, include the kind of animal and the owner’s name. Store these dictionaries in a list called pets. Next, loop through your list and as you do print everything you know about each pet."
   ]
  },
  {
   "cell_type": "code",
   "execution_count": 77,
   "metadata": {},
   "outputs": [
    {
     "name": "stdout",
     "output_type": "stream",
     "text": [
      "Animal : Parrot\n",
      "Name : Blue\n",
      "Specie : lorikeet\n",
      "Color : Blue\n",
      "\n",
      "\n",
      "Animal : Dog\n",
      "Name : Panther\n",
      "Specie : Siberian Husky\n",
      "Color : Grey\n",
      "\n",
      "\n",
      "Animal : Pigeon\n",
      "Name : Panchi\n",
      "Specie : Laka\n",
      "Color : White\n",
      "\n",
      "\n"
     ]
    }
   ],
   "source": [
    "parot={'Animal':'Parrot','Name':'Blue','Specie':'lorikeet','Color':'Blue'}\n",
    "Dog={'Animal':'Dog','Name':'Panther','Specie':'Siberian Husky','Color':'Grey'}\n",
    "Pigeon={'Animal':'Pigeon','Name':'Panchi','Specie':'Laka','Color':'White'}\n",
    "pet_list=[parot,Dog,Pigeon]\n",
    "for i in pet_list:\n",
    "    for k,v in i.items():\n",
    "        print('{0} : {1}'.format(k,v))\n",
    "    print('\\n')"
   ]
  },
  {
   "cell_type": "code",
   "execution_count": null,
   "metadata": {},
   "outputs": [],
   "source": []
  }
 ],
 "metadata": {
  "kernelspec": {
   "display_name": "Python 3",
   "language": "python",
   "name": "python3"
  },
  "language_info": {
   "codemirror_mode": {
    "name": "ipython",
    "version": 3
   },
   "file_extension": ".py",
   "mimetype": "text/x-python",
   "name": "python",
   "nbconvert_exporter": "python",
   "pygments_lexer": "ipython3",
   "version": "3.7.3"
  }
 },
 "nbformat": 4,
 "nbformat_minor": 2
}
